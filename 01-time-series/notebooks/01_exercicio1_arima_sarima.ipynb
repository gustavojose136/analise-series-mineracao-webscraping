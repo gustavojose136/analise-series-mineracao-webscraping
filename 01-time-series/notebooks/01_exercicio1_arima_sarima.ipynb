{
  "cells": [
    {
      "cell_type": "markdown",
      "metadata": {},
      "source": [
        "# Exerc\u00edcio 1: ARIMA & SARIMA\n",
        "An\u00e1lise de s\u00e9rie temporal com ARIMA e SARIMA para o dataset 22739, incluindo frequ\u00eancia e renderiza\u00e7\u00e3o completa de summary."
      ]
    },
    {
      "cell_type": "code",
      "execution_count": null,
      "metadata": {},
      "outputs": [],
      "source": [
        "import pandas as pd\n",
        "import matplotlib.pyplot as plt\n",
        "from statsmodels.tsa.seasonal import seasonal_decompose\n",
        "from statsmodels.tsa.stattools import adfuller\n",
        "from statsmodels.graphics.tsaplots import plot_acf, plot_pacf\n",
        "from statsmodels.tsa.arima.model import ARIMA\n",
        "from statsmodels.tsa.statespace.sarimax import SARIMAX\n",
        "from IPython.display import HTML, display\n",
        "%matplotlib inline"
      ]
    },
    {
      "cell_type": "code",
      "execution_count": null,
      "metadata": {},
      "outputs": [],
      "source": [
        "# 1) Leitura e limpeza\n",
        "df = pd.read_csv('../data/raw/bcdata.sgs.22739.csv', sep=';')\n",
        "df.columns = ['data', 'valor']\n",
        "df['data'] = pd.to_datetime(df['data'], dayfirst=True)\n",
        "df['valor'] = df['valor'].str.replace(' ', '').str.replace(',', '.', regex=False).astype(float)\n",
        "df.set_index('data', inplace=True)\n",
        "\n",
        "# 2) For\u00e7ar frequ\u00eancia mensal\n",
        "df = df.asfreq('MS')\n",
        "df.head()"
      ]
    },
    {
      "cell_type": "code",
      "execution_count": null,
      "metadata": {},
      "outputs": [],
      "source": [
        "# Estat\u00edsticas descritivas e plot da s\u00e9rie\n",
        "print(df['valor'].describe())\n",
        "plt.figure(figsize=(10,4))\n",
        "plt.plot(df.index, df['valor'])\n",
        "plt.title('Outros servi\u00e7os de transportes: despesa (US$ milh\u00f5es)')\n",
        "plt.xlabel('Data')\n",
        "plt.ylabel('US$ milh\u00f5es')\n",
        "plt.show()"
      ]
    },
    {
      "cell_type": "code",
      "execution_count": null,
      "metadata": {},
      "outputs": [],
      "source": [
        "# Decomposi\u00e7\u00e3o\n",
        "decomp = seasonal_decompose(df['valor'], model='additive', period=12)\n",
        "fig = decomp.plot()\n",
        "fig.set_size_inches(10,8)\n",
        "plt.show()"
      ]
    },
    {
      "cell_type": "code",
      "execution_count": null,
      "metadata": {},
      "outputs": [],
      "source": [
        "# Teste de estacionariedade ADF\n",
        "result = adfuller(df['valor'])\n",
        "print('ADF Statistic:', result[0])\n",
        "print('p-value:', result[1])"
      ]
    },
    {
      "cell_type": "code",
      "execution_count": null,
      "metadata": {},
      "outputs": [],
      "source": [
        "# Diferencia\u00e7\u00f5es e ACF/PACF\n",
        "diff = df['valor'].diff().dropna()\n",
        "diff_seasonal = diff.diff(12).dropna()\n",
        "fig, axes = plt.subplots(2,1, figsize=(10,8))\n",
        "plot_acf(diff_seasonal, lags=36, ax=axes[0])\n",
        "plot_pacf(diff_seasonal, lags=36, ax=axes[1])\n",
        "plt.show()"
      ]
    },
    {
      "cell_type": "code",
      "execution_count": null,
      "metadata": {},
      "outputs": [],
      "source": [
        "# Ajuste ARIMA (1,1,1) com renderiza\u00e7\u00e3o completa do summary\n",
        "model_arima = ARIMA(df['valor'], order=(1,1,1)).fit()\n",
        "display(HTML(model_arima.summary().as_html()))"
      ]
    },
    {
      "cell_type": "code",
      "execution_count": null,
      "metadata": {},
      "outputs": [],
      "source": [
        "# Ajuste SARIMA (1,1,1)(1,1,1,12)\n",
        "model_sarima = SARIMAX(df['valor'], order=(1,1,1), seasonal_order=(1,1,1,12)).fit(disp=False)\n",
        "display(HTML(model_sarima.summary().as_html()))"
      ]
    },
    {
      "cell_type": "code",
      "execution_count": null,
      "metadata": {},
      "outputs": [],
      "source": [
        "# Forecast 12 meses\n",
        "forecast = model_sarima.get_forecast(12)\n",
        "fmean = forecast.predicted_mean\n",
        "ci = forecast.conf_int()\n",
        "plt.figure(figsize=(10,5))\n",
        "plt.plot(df.index, df['valor'], label='Observado')\n",
        "plt.plot(fmean.index, fmean, label='Forecast')\n",
        "plt.fill_between(ci.index, ci.iloc[:,0], ci.iloc[:,1], alpha=0.3)\n",
        "plt.legend()\n",
        "plt.show()"
      ]
    }
  ],
  "metadata": {
    "kernelspec": {
      "display_name": "Python 3",
      "language": "python",
      "name": "python3"
    },
    "language_info": {
      "name": "python",
      "version": "3.12"
    }
  },
  "nbformat": 4,
  "nbformat_minor": 5
}