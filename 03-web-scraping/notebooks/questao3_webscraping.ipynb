{
 "cells": [
  {
   "cell_type": "markdown",
   "id": "db0ce59f",
   "metadata": {},
   "source": [
    "# Questão 3 – Exemplo de Web Scraping\n",
    "Este notebook demonstra duas rotinas de Web Scraping já utilizadas na empresa, adaptadas para salvar o resultado em CSV para posterior Mineração de Texto.\n",
    "- **tabuaMare.py**: raspa tabela de marés e salva em JSON/CSV.\n",
    "- **teste2.py**: outro exemplo de scraping (ex: horários de sol e lua) e salvamento.\n"
   ]
  },
  {
   "cell_type": "code",
   "execution_count": 1,
   "id": "d25edefd",
   "metadata": {},
   "outputs": [],
   "source": [
    "import json\n",
    "import pandas as pd\n"
   ]
  },
  {
   "cell_type": "markdown",
   "id": "3b4acded",
   "metadata": {},
   "source": [
    "## 1. Rotina `tabuaMare.py`"
   ]
  },
  {
   "cell_type": "code",
   "execution_count": 2,
   "id": "a8687133",
   "metadata": {},
   "outputs": [
    {
     "name": "stdout",
     "output_type": "stream",
     "text": [
      "Coletando dados para 01/25...\n",
      "Coletando dados para 02/25...\n",
      "Coletando dados para 03/25...\n",
      "Coletando dados para 04/25...\n",
      "Coletando dados para 05/25...\n",
      "Coletando dados para 06/25...\n",
      "Coletando dados para 07/25...\n",
      "Coletando dados para 08/25...\n",
      "Coletando dados para 09/25...\n",
      "Coletando dados para 10/25...\n",
      "Coletando dados para 11/25...\n",
      "Coletando dados para 12/25...\n",
      "Dados de maré para o ano 25 foram exportados para 'tabua_mare_25.json'\n"
     ]
    }
   ],
   "source": [
    "import json\n",
    "from selenium import webdriver\n",
    "from selenium.webdriver.chrome.service import Service\n",
    "from selenium.webdriver.common.by import By\n",
    "from selenium.webdriver.support.ui import WebDriverWait\n",
    "from selenium.webdriver.support import expected_conditions as EC\n",
    "import time\n",
    "\n",
    "webdriver_path = 'C:/chromedriver/chromedriver.exe'  \n",
    "\n",
    "service = Service(webdriver_path)\n",
    "driver = webdriver.Chrome(service=service)\n",
    "\n",
    "def get_tide_data_for_month(year, month):\n",
    "    url = f'https://surfguru.com.br/previsao/mare/60220/m?mes={month:02d}&ano={year}'\n",
    "    \n",
    "    driver.get(url)\n",
    "\n",
    "    WebDriverWait(driver, 2).until(\n",
    "        EC.presence_of_element_located((By.CLASS_NAME, 'celula_dia'))\n",
    "    )\n",
    "\n",
    "    days = driver.find_elements(By.CLASS_NAME, 'celula_dia')\n",
    "\n",
    "    month_data = []\n",
    "\n",
    "    for day in days:\n",
    "        day_data = day.text.strip()\n",
    "        month_data.append(day_data)\n",
    "\n",
    "    return month_data\n",
    "\n",
    "year_data = {}\n",
    "\n",
    "year = 25\n",
    "for month in range(1, 13):\n",
    "    print(f\"Coletando dados para {month:02d}/{year}...\")\n",
    "\n",
    "    month_data = get_tide_data_for_month(year, month)\n",
    "    \n",
    "    year_data[f\"{year}-{month:02d}\"] = month_data\n",
    "\n",
    "with open(f'tabua_mare_{year}.json', 'w', encoding='utf-8') as f:\n",
    "    json.dump(year_data, f, ensure_ascii=False, indent=4)\n",
    "\n",
    "driver.quit()\n",
    "\n",
    "print(f\"Dados de maré para o ano {year} foram exportados para 'tabua_mare_{year}.json'\")\n"
   ]
  },
  {
   "cell_type": "markdown",
   "id": "3f82c01f",
   "metadata": {},
   "source": [
    "### 1.1. Converter JSON de marés para CSV"
   ]
  },
  {
   "cell_type": "code",
   "execution_count": 2,
   "id": "1ba2371a",
   "metadata": {},
   "outputs": [
    {
     "name": "stdout",
     "output_type": "stream",
     "text": [
      "CSV de marés gerado em: tabua_mare_25.csv\n"
     ]
    }
   ],
   "source": [
    "import json\n",
    "import pandas as pd\n",
    "\n",
    "# Ajuste estes paths conforme sua estrutura\n",
    "json_path = 'tabua_mare_25.json'\n",
    "csv_path = 'tabua_mare_25.csv'\n",
    "\n",
    "with open(json_path, 'r', encoding='utf-8') as jf:\n",
    "    year_data = json.load(jf)\n",
    "\n",
    "rows = []\n",
    "\n",
    "# Iterador genérico de meses\n",
    "if isinstance(year_data, dict):\n",
    "    month_iter = year_data.items()\n",
    "elif isinstance(year_data, list):\n",
    "    # antiga versão: lista de dicts com keys 'mes' e 'dias'\n",
    "    month_iter = ((m.get('mes'), m.get('dias', [])) for m in year_data)\n",
    "else:\n",
    "    raise ValueError(f\"Formato inesperado: {type(year_data)}\")\n",
    "\n",
    "for mes, days in month_iter:\n",
    "    # Se for dict (dia→info), transforma em lista de tuplas\n",
    "    if isinstance(days, dict):\n",
    "        days = [(dia, info) for dia, info in days.items()]\n",
    "    # Agora days pode ser:\n",
    "    #  - lista de tuplas (dia, info_dict)\n",
    "    #  - lista de dicts (com chaves 'dia','marés')\n",
    "    #  - **lista de strings** (formato Selenium)\n",
    "    for entry in days:\n",
    "        # caso tupla (dia, dict)\n",
    "        if isinstance(entry, tuple):\n",
    "            dia, info = entry\n",
    "            tides = info.get('marés', [])\n",
    "            for tide in tides:\n",
    "                rows.append({\n",
    "                    'mes':      mes,\n",
    "                    'dia':      dia,\n",
    "                    'hora':     tide.get('hora'),\n",
    "                    'altura':   tide.get('altura')\n",
    "                })\n",
    "\n",
    "        # caso dict antigo\n",
    "        elif isinstance(entry, dict):\n",
    "            dia  = entry.get('dia') or entry.get('day')\n",
    "            tides = entry.get('marés', [])\n",
    "            for tide in tides:\n",
    "                rows.append({\n",
    "                    'mes':    mes,\n",
    "                    'dia':    dia,\n",
    "                    'hora':   tide.get('hora'),\n",
    "                    'altura': tide.get('altura')\n",
    "                })\n",
    "\n",
    "        # **caso string do Selenium**\n",
    "        elif isinstance(entry, str):\n",
    "            lines = entry.splitlines()\n",
    "            if not lines: \n",
    "                continue\n",
    "            dia = lines[0].strip()\n",
    "            # demais linhas: cada uma “HH:MM X.XXm”\n",
    "            for tide_line in lines[1:]:\n",
    "                parts = tide_line.strip().split()\n",
    "                if len(parts) >= 2:\n",
    "                    hora   = parts[0]\n",
    "                    altura = parts[1]\n",
    "                    rows.append({\n",
    "                        'mes':    mes,\n",
    "                        'dia':    dia,\n",
    "                        'hora':   hora,\n",
    "                        'altura': altura\n",
    "                    })\n",
    "        else:\n",
    "            # tipos inesperados podem ser ignorados ou logados\n",
    "            print(f\"Aviso: tipo inesperado em days -> {type(entry)}\")\n",
    "\n",
    "# Grava o CSV final\n",
    "df_mare = pd.DataFrame(rows)\n",
    "df_mare.to_csv(csv_path, index=False, encoding='utf-8')\n",
    "print(f'CSV de marés gerado em: {csv_path}')\n"
   ]
  },
  {
   "cell_type": "markdown",
   "id": "7f3414d7",
   "metadata": {},
   "source": [
    "## 2. Rotina `teste2.py`"
   ]
  },
  {
   "cell_type": "code",
   "execution_count": 3,
   "id": "8e5dab14",
   "metadata": {},
   "outputs": [
    {
     "name": "stdout",
     "output_type": "stream",
     "text": [
      "Dados exportados com sucesso!\n"
     ]
    }
   ],
   "source": [
    "from selenium import webdriver\n",
    "from selenium.webdriver.chrome.service import Service\n",
    "from selenium.webdriver.common.by import By\n",
    "from selenium.webdriver.support.ui import WebDriverWait\n",
    "from selenium.webdriver.support import expected_conditions as EC\n",
    "import json\n",
    "import time\n",
    "\n",
    "webdriver_path = 'C:/chromedriver/chromedriver.exe'\n",
    "\n",
    "service = Service(webdriver_path)\n",
    "driver = webdriver.Chrome(service=service)\n",
    "\n",
    "url = 'https://surfguru.com.br/previsao/mare/60220/m?mes=05&ano=25'\n",
    "\n",
    "driver.get(url)\n",
    "\n",
    "data = {}\n",
    "try:\n",
    "    WebDriverWait(driver, 20).until(\n",
    "        EC.presence_of_element_located((By.CLASS_NAME, 'celula_dia'))\n",
    "    )\n",
    "\n",
    "    days = driver.find_elements(By.CLASS_NAME, 'celula_dia')\n",
    "\n",
    "    for day in days:\n",
    "        try:\n",
    "            day_text = day.find_element(By.CLASS_NAME, 'linha_data_lua').text.strip()\n",
    "        except Exception as e:\n",
    "            print(f\"Erro ao tentar encontrar o dia: {e}\")\n",
    "            continue\n",
    "\n",
    "        day_number, day_name = day_text.split(\" - \")\n",
    "        tides = []\n",
    "\n",
    "        mare_data = day.find_elements(By.CSS_SELECTOR, '.celula_mare, .celula_mare_baixa')\n",
    "        for mare in mare_data:\n",
    "            try:\n",
    "                hour, height = mare.text.strip().split('h ')\n",
    "                tides.append({\n",
    "                    \"hora\": hour + \"h\",\n",
    "                    \"altura\": height\n",
    "                })\n",
    "            except Exception as e:\n",
    "                print(f\"Erro ao tentar encontrar marés: {e}\")\n",
    "                continue\n",
    "        try:\n",
    "            sun_info = day.find_element(By.XPATH, \".//div[contains(text(), 'Nascer do Sol')]/following-sibling::div\").text\n",
    "            sun_rise, sun_set = sun_info.split(' - ')\n",
    "        except:\n",
    "            sun_rise, sun_set = \"N/A\", \"N/A\"\n",
    "\n",
    "        try:\n",
    "            moon_info = day.find_element(By.XPATH, \".//div[contains(text(), 'Nascer da Lua')]/following-sibling::div\").text\n",
    "            moon_rise, moon_set = moon_info.split(' - ')\n",
    "        except:\n",
    "            moon_rise, moon_set = \"N/A\", \"N/A\"\n",
    "\n",
    "        data[day_number] = {\n",
    "            \"dia\": day_name,\n",
    "            \"marés\": tides,\n",
    "            \"sol\": {\n",
    "                \"nasce\": sun_rise,\n",
    "                \"se_põe\": sun_set\n",
    "            },\n",
    "            \"lua\": {\n",
    "                \"nasce\": moon_rise,\n",
    "                \"se_põe\": moon_set\n",
    "            }\n",
    "        }\n",
    "\n",
    "    data[\"marés\"] = {\n",
    "        \"alta\": {\n",
    "            \"altura\": \"1.9\",\n",
    "            \"dias\": [\"08\", \"09\", \"10\"]\n",
    "        },\n",
    "        \"baixa\": {\n",
    "            \"altura\": \"-0.3\",\n",
    "            \"dia\": \"07\"\n",
    "        }\n",
    "    }\n",
    "\n",
    "finally:\n",
    "    driver.quit()\n",
    "\n",
    "with open(\"previsao_mare.json\", \"w\", encoding='utf-8') as f:\n",
    "    json.dump(data, f, ensure_ascii=False, indent=4)\n",
    "\n",
    "print(\"Dados exportados com sucesso!\")\n"
   ]
  },
  {
   "cell_type": "markdown",
   "id": "ee68cc4b",
   "metadata": {},
   "source": [
    "### 2.1. Salvar resultado de `teste2.py` em CSV"
   ]
  },
  {
   "cell_type": "code",
   "execution_count": 4,
   "id": "f2b5d132",
   "metadata": {},
   "outputs": [
    {
     "name": "stdout",
     "output_type": "stream",
     "text": [
      "CSV de teste2 gerado em: resultado_teste2.csv\n"
     ]
    }
   ],
   "source": [
    "# Suponha que o script produza um dicionário `data` com registros\n",
    "# Ajuste a variável abaixo conforme o script\n",
    "try:\n",
    "    records = data  # `data` define lista de dicionários ou similar\n",
    "    df2 = pd.DataFrame(records)\n",
    "    df2.to_csv('resultado_teste2.csv', index=False, encoding='utf-8')\n",
    "    print('CSV de teste2 gerado em: resultado_teste2.csv')\n",
    "except NameError:\n",
    "    print('Verifique se `data` está definido pelo teste2.py para CSV.')"
   ]
  }
 ],
 "metadata": {
  "kernelspec": {
   "display_name": "Python 3",
   "language": "python",
   "name": "python3"
  },
  "language_info": {
   "codemirror_mode": {
    "name": "ipython",
    "version": 3
   },
   "file_extension": ".py",
   "mimetype": "text/x-python",
   "name": "python",
   "nbconvert_exporter": "python",
   "pygments_lexer": "ipython3",
   "version": "3.12.10"
  }
 },
 "nbformat": 4,
 "nbformat_minor": 5
}
