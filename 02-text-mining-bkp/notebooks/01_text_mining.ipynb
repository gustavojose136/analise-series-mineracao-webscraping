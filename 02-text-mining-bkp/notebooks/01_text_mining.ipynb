{
  "cells": [
    {
      "cell_type": "code",
      "execution_count": null,
      "id": "88168d15",
      "metadata": {},
      "outputs": [],
      "source": [
        "import glob\n",
        "\n",
        "# Executa todos os scripts em ../src para carregar as funções\n",
        "for script in glob.glob('../src/*.py'):\n",
        "    %run \"$script\"\n",
        "\n",
        "import matplotlib.pyplot as plt\n",
        "%matplotlib inline"
      ]
    },
    {
      "cell_type": "code",
      "execution_count": null,
      "id": "45a6360c",
      "metadata": {},
      "outputs": [],
      "source": [
        "import glob\n",
        "files = glob.glob('../data/raw_texts/*.txt')\n",
        "docs = [open(f, encoding='utf-8').read() for f in files]\n",
        "docs[:5]  # visualiza os primeiros textos"
      ]
    },
    {
      "cell_type": "code",
      "execution_count": null,
      "id": "5621c858",
      "metadata": {},
      "outputs": [],
      "source": [
        "# 1) Term Frequency Analysis (TF-IDF)\n",
        "df_tfidf = example_tfidf(docs)\n",
        "df_tfidf.head()"
      ]
    },
    {
      "cell_type": "code",
      "execution_count": null,
      "id": "1af2e086",
      "metadata": {},
      "outputs": [],
      "source": [
        "# 2) Keyword Analysis\n",
        "keywords = example_keywords(docs, top_n=5)\n",
        "keywords"
      ]
    },
    {
      "cell_type": "code",
      "execution_count": null,
      "id": "d2c9ed8f",
      "metadata": {},
      "outputs": [],
      "source": [
        "# 3) Sentiment Analysis\n",
        "sentiments = example_sentiment(docs)\n",
        "sentiments[:10]"
      ]
    },
    {
      "cell_type": "code",
      "execution_count": null,
      "id": "ae033582",
      "metadata": {},
      "outputs": [],
      "source": [
        "# 4) Visualizing Text Data (WordCloud)\n",
        "example_wordcloud(' '.join(docs))"
      ]
    },
    {
      "cell_type": "code",
      "execution_count": null,
      "id": "b28584f9",
      "metadata": {},
      "outputs": [],
      "source": [
        "# 5) Coding Qualitative Data\n",
        "code_map = {'exemplo': ['exemplo','demonstra']}\n",
        "example_coding(docs, code_map)"
      ]
    },
    {
      "cell_type": "code",
      "execution_count": null,
      "id": "63cc9577",
      "metadata": {},
      "outputs": [],
      "source": [
        "# 6) Named Entity Recognition\n",
        "example_ner(docs[0])"
      ]
    },
    {
      "cell_type": "code",
      "execution_count": null,
      "id": "f87b6cee",
      "metadata": {},
      "outputs": [],
      "source": [
        "# 7) Topic Recognition (LDA)\n",
        "example_lda(docs, n_topics=3)"
      ]
    },
    {
      "cell_type": "code",
      "execution_count": null,
      "id": "41f445a7",
      "metadata": {},
      "outputs": [],
      "source": [
        "# 8) Text Similarity\n",
        "sim_matrix = example_similarity(docs)\n",
        "sim_matrix"
      ]
    }
  ],
  "metadata": {
    "kernelspec": {
      "display_name": "Python 3",
      "language": "python",
      "name": "python3"
    },
    "language_info": {
      "name": "python",
      "version": "3.12.10"
    }
  },
  "nbformat": 4,
  "nbformat_minor": 5
}
